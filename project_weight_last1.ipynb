{
 "cells": [
  {
   "cell_type": "code",
   "execution_count": 80,
   "id": "03b439ca-89ea-45cc-8b6e-e739f9e39d1e",
   "metadata": {},
   "outputs": [],
   "source": [
    "import pandas as pd\n",
    "import numpy as np\n",
    "import matplotlib.pyplot as plt\n",
    "from sklearn.impute import KNNImputer\n",
    "import seaborn as sns\n",
    "from sklearn.preprocessing import OrdinalEncoder\n",
    "from sklearn.model_selection import train_test_split\n",
    "from sklearn.linear_model import LinearRegression\n",
    "from sklearn.metrics import mean_squared_error, r2_score\n",
    "from sklearn.linear_model import ElasticNet\n",
    "from sklearn.linear_model import Lasso, Ridge, ElasticNet\n",
    "from sklearn.metrics import mean_squared_error, r2_score\n",
    "\n",
    "\n",
    "import warnings\n",
    "warnings.filterwarnings(\"ignore\") "
   ]
  },
  {
   "cell_type": "code",
   "execution_count": 81,
   "id": "1d3fd3f3-2af5-4def-a80a-5cca8f240726",
   "metadata": {},
   "outputs": [
    {
     "data": {
      "text/html": [
       "<div>\n",
       "<style scoped>\n",
       "    .dataframe tbody tr th:only-of-type {\n",
       "        vertical-align: middle;\n",
       "    }\n",
       "\n",
       "    .dataframe tbody tr th {\n",
       "        vertical-align: top;\n",
       "    }\n",
       "\n",
       "    .dataframe thead th {\n",
       "        text-align: right;\n",
       "    }\n",
       "</style>\n",
       "<table border=\"1\" class=\"dataframe\">\n",
       "  <thead>\n",
       "    <tr style=\"text-align: right;\">\n",
       "      <th></th>\n",
       "      <th>Index</th>\n",
       "      <th>Date</th>\n",
       "      <th>Weight</th>\n",
       "    </tr>\n",
       "  </thead>\n",
       "  <tbody>\n",
       "    <tr>\n",
       "      <th>0</th>\n",
       "      <td>NaN</td>\n",
       "      <td>0</td>\n",
       "      <td>1</td>\n",
       "    </tr>\n",
       "    <tr>\n",
       "      <th>1</th>\n",
       "      <td>0.0</td>\n",
       "      <td>3-Jun-2024</td>\n",
       "      <td>80 kg</td>\n",
       "    </tr>\n",
       "    <tr>\n",
       "      <th>2</th>\n",
       "      <td>1.0</td>\n",
       "      <td>4-Jun-2024</td>\n",
       "      <td>NaN</td>\n",
       "    </tr>\n",
       "    <tr>\n",
       "      <th>3</th>\n",
       "      <td>2.0</td>\n",
       "      <td>5-Jun-2024</td>\n",
       "      <td>NaN</td>\n",
       "    </tr>\n",
       "    <tr>\n",
       "      <th>4</th>\n",
       "      <td>3.0</td>\n",
       "      <td>6-Jun-2024</td>\n",
       "      <td>NaN</td>\n",
       "    </tr>\n",
       "  </tbody>\n",
       "</table>\n",
       "</div>"
      ],
      "text/plain": [
       "   Index        Date Weight\n",
       "0    NaN           0      1\n",
       "1    0.0  3-Jun-2024  80 kg\n",
       "2    1.0  4-Jun-2024    NaN\n",
       "3    2.0  5-Jun-2024    NaN\n",
       "4    3.0  6-Jun-2024    NaN"
      ]
     },
     "execution_count": 81,
     "metadata": {},
     "output_type": "execute_result"
    }
   ],
   "source": [
    "df = pd.read_csv(\"weight.csv\" , names=['Index', 'Date', 'Weight'])\n",
    "df.head()"
   ]
  },
  {
   "cell_type": "code",
   "execution_count": null,
   "id": "752f7fdc-886d-4562-bde5-46b1507cab1c",
   "metadata": {},
   "outputs": [],
   "source": []
  },
  {
   "cell_type": "code",
   "execution_count": 82,
   "id": "d22c45d3-04ea-4860-bb3c-533339e91c36",
   "metadata": {},
   "outputs": [
    {
     "data": {
      "text/plain": [
       "(70, 3)"
      ]
     },
     "execution_count": 82,
     "metadata": {},
     "output_type": "execute_result"
    }
   ],
   "source": [
    "df.shape"
   ]
  },
  {
   "cell_type": "code",
   "execution_count": 83,
   "id": "9004d033-679b-48fd-b3e5-a5b082bd590e",
   "metadata": {},
   "outputs": [],
   "source": [
    "df1 = df"
   ]
  },
  {
   "cell_type": "code",
   "execution_count": 84,
   "id": "ed5f7ae1-53fd-47a8-9c38-de71f392dc06",
   "metadata": {},
   "outputs": [
    {
     "data": {
      "text/html": [
       "<div>\n",
       "<style scoped>\n",
       "    .dataframe tbody tr th:only-of-type {\n",
       "        vertical-align: middle;\n",
       "    }\n",
       "\n",
       "    .dataframe tbody tr th {\n",
       "        vertical-align: top;\n",
       "    }\n",
       "\n",
       "    .dataframe thead th {\n",
       "        text-align: right;\n",
       "    }\n",
       "</style>\n",
       "<table border=\"1\" class=\"dataframe\">\n",
       "  <thead>\n",
       "    <tr style=\"text-align: right;\">\n",
       "      <th></th>\n",
       "      <th>Index</th>\n",
       "      <th>Date</th>\n",
       "      <th>Weight</th>\n",
       "    </tr>\n",
       "  </thead>\n",
       "  <tbody>\n",
       "  </tbody>\n",
       "</table>\n",
       "</div>"
      ],
      "text/plain": [
       "Empty DataFrame\n",
       "Columns: [Index, Date, Weight]\n",
       "Index: []"
      ]
     },
     "execution_count": 84,
     "metadata": {},
     "output_type": "execute_result"
    }
   ],
   "source": [
    "df[df.duplicated()]"
   ]
  },
  {
   "cell_type": "code",
   "execution_count": 85,
   "id": "cc37fa1d-e5bf-4cde-afba-5651b3410f7d",
   "metadata": {},
   "outputs": [
    {
     "data": {
      "text/plain": [
       "Index     float64\n",
       "Date       object\n",
       "Weight     object\n",
       "dtype: object"
      ]
     },
     "execution_count": 85,
     "metadata": {},
     "output_type": "execute_result"
    }
   ],
   "source": [
    "df.dtypes"
   ]
  },
  {
   "cell_type": "code",
   "execution_count": 86,
   "id": "18bb5729-80a3-4a4d-aee3-36fe1bef4e97",
   "metadata": {},
   "outputs": [],
   "source": [
    "df.drop(columns=\"Index\",inplace=True)\n"
   ]
  },
  {
   "cell_type": "code",
   "execution_count": 87,
   "id": "ee036054-3fde-4d73-a4ab-dbaab0df3515",
   "metadata": {},
   "outputs": [],
   "source": [
    "df[\"Weight\"].replace(\"NA\",pd.NA,inplace = True)"
   ]
  },
  {
   "cell_type": "code",
   "execution_count": 88,
   "id": "72015dda-0f7f-4842-bc87-1b58f7ea9361",
   "metadata": {},
   "outputs": [],
   "source": [
    "df[\"Weight\"]= df[\"Weight\"].str.replace(\"kg\",\"\").astype(float)"
   ]
  },
  {
   "cell_type": "code",
   "execution_count": 89,
   "id": "2c21f105-0597-456d-baf8-c2c645b8385f",
   "metadata": {},
   "outputs": [],
   "source": [
    "df.reset_index(drop=True,inplace= True)"
   ]
  },
  {
   "cell_type": "code",
   "execution_count": 90,
   "id": "154a9b70-77f1-4fae-8ccf-83257e5c5878",
   "metadata": {},
   "outputs": [],
   "source": [
    "df.drop(0,inplace=True)  \n"
   ]
  },
  {
   "cell_type": "code",
   "execution_count": 91,
   "id": "648598db-68f7-4bb0-8071-96e82f7f9a26",
   "metadata": {},
   "outputs": [
    {
     "name": "stdout",
     "output_type": "stream",
     "text": [
      "<class 'pandas.core.frame.DataFrame'>\n",
      "RangeIndex: 69 entries, 1 to 69\n",
      "Data columns (total 2 columns):\n",
      " #   Column  Non-Null Count  Dtype  \n",
      "---  ------  --------------  -----  \n",
      " 0   Date    69 non-null     object \n",
      " 1   Weight  35 non-null     float64\n",
      "dtypes: float64(1), object(1)\n",
      "memory usage: 1.2+ KB\n"
     ]
    }
   ],
   "source": [
    "df.info()"
   ]
  },
  {
   "cell_type": "code",
   "execution_count": 92,
   "id": "5a4df129-68bd-4162-a5cf-e82ac8039376",
   "metadata": {},
   "outputs": [
    {
     "data": {
      "text/html": [
       "<div>\n",
       "<style scoped>\n",
       "    .dataframe tbody tr th:only-of-type {\n",
       "        vertical-align: middle;\n",
       "    }\n",
       "\n",
       "    .dataframe tbody tr th {\n",
       "        vertical-align: top;\n",
       "    }\n",
       "\n",
       "    .dataframe thead th {\n",
       "        text-align: right;\n",
       "    }\n",
       "</style>\n",
       "<table border=\"1\" class=\"dataframe\">\n",
       "  <thead>\n",
       "    <tr style=\"text-align: right;\">\n",
       "      <th></th>\n",
       "      <th>Date</th>\n",
       "      <th>Weight</th>\n",
       "    </tr>\n",
       "  </thead>\n",
       "  <tbody>\n",
       "    <tr>\n",
       "      <th>1</th>\n",
       "      <td>3-Jun-2024</td>\n",
       "      <td>80.0</td>\n",
       "    </tr>\n",
       "    <tr>\n",
       "      <th>2</th>\n",
       "      <td>4-Jun-2024</td>\n",
       "      <td>NaN</td>\n",
       "    </tr>\n",
       "    <tr>\n",
       "      <th>3</th>\n",
       "      <td>5-Jun-2024</td>\n",
       "      <td>NaN</td>\n",
       "    </tr>\n",
       "    <tr>\n",
       "      <th>4</th>\n",
       "      <td>6-Jun-2024</td>\n",
       "      <td>NaN</td>\n",
       "    </tr>\n",
       "    <tr>\n",
       "      <th>5</th>\n",
       "      <td>7-Jun-2024</td>\n",
       "      <td>NaN</td>\n",
       "    </tr>\n",
       "  </tbody>\n",
       "</table>\n",
       "</div>"
      ],
      "text/plain": [
       "         Date  Weight\n",
       "1  3-Jun-2024    80.0\n",
       "2  4-Jun-2024     NaN\n",
       "3  5-Jun-2024     NaN\n",
       "4  6-Jun-2024     NaN\n",
       "5  7-Jun-2024     NaN"
      ]
     },
     "execution_count": 92,
     "metadata": {},
     "output_type": "execute_result"
    }
   ],
   "source": [
    "df.head()"
   ]
  },
  {
   "cell_type": "code",
   "execution_count": 93,
   "id": "1c949920-9c32-454c-b2fa-2f6346535727",
   "metadata": {},
   "outputs": [],
   "source": [
    "df['Date'] = pd.to_datetime(df['Date'], format='%d-%b-%Y')"
   ]
  },
  {
   "cell_type": "code",
   "execution_count": 94,
   "id": "1cf9b8ed-1f11-4a86-88e9-8bd91d4073d9",
   "metadata": {},
   "outputs": [
    {
     "data": {
      "text/html": [
       "<div>\n",
       "<style scoped>\n",
       "    .dataframe tbody tr th:only-of-type {\n",
       "        vertical-align: middle;\n",
       "    }\n",
       "\n",
       "    .dataframe tbody tr th {\n",
       "        vertical-align: top;\n",
       "    }\n",
       "\n",
       "    .dataframe thead th {\n",
       "        text-align: right;\n",
       "    }\n",
       "</style>\n",
       "<table border=\"1\" class=\"dataframe\">\n",
       "  <thead>\n",
       "    <tr style=\"text-align: right;\">\n",
       "      <th></th>\n",
       "      <th>Date</th>\n",
       "      <th>Weight</th>\n",
       "    </tr>\n",
       "  </thead>\n",
       "  <tbody>\n",
       "    <tr>\n",
       "      <th>1</th>\n",
       "      <td>2024-06-03</td>\n",
       "      <td>80.0</td>\n",
       "    </tr>\n",
       "    <tr>\n",
       "      <th>2</th>\n",
       "      <td>2024-06-04</td>\n",
       "      <td>NaN</td>\n",
       "    </tr>\n",
       "    <tr>\n",
       "      <th>3</th>\n",
       "      <td>2024-06-05</td>\n",
       "      <td>NaN</td>\n",
       "    </tr>\n",
       "    <tr>\n",
       "      <th>4</th>\n",
       "      <td>2024-06-06</td>\n",
       "      <td>NaN</td>\n",
       "    </tr>\n",
       "    <tr>\n",
       "      <th>5</th>\n",
       "      <td>2024-06-07</td>\n",
       "      <td>NaN</td>\n",
       "    </tr>\n",
       "  </tbody>\n",
       "</table>\n",
       "</div>"
      ],
      "text/plain": [
       "        Date  Weight\n",
       "1 2024-06-03    80.0\n",
       "2 2024-06-04     NaN\n",
       "3 2024-06-05     NaN\n",
       "4 2024-06-06     NaN\n",
       "5 2024-06-07     NaN"
      ]
     },
     "execution_count": 94,
     "metadata": {},
     "output_type": "execute_result"
    }
   ],
   "source": [
    "df.head()"
   ]
  },
  {
   "cell_type": "code",
   "execution_count": 95,
   "id": "ffc12352-d4a6-4200-92e9-e1d2a6ed9a3a",
   "metadata": {},
   "outputs": [],
   "source": [
    "df['Days'] = (df['Date'] - df['Date'].min()).dt.days\n",
    "df['year'] = pd.DatetimeIndex(df['Date']).year\n",
    "df['month'] = pd.DatetimeIndex(df['Date']).month"
   ]
  },
  {
   "cell_type": "code",
   "execution_count": 96,
   "id": "fb646563-4e5f-407c-a876-7b01fe1f4390",
   "metadata": {},
   "outputs": [
    {
     "data": {
      "text/html": [
       "<div>\n",
       "<style scoped>\n",
       "    .dataframe tbody tr th:only-of-type {\n",
       "        vertical-align: middle;\n",
       "    }\n",
       "\n",
       "    .dataframe tbody tr th {\n",
       "        vertical-align: top;\n",
       "    }\n",
       "\n",
       "    .dataframe thead th {\n",
       "        text-align: right;\n",
       "    }\n",
       "</style>\n",
       "<table border=\"1\" class=\"dataframe\">\n",
       "  <thead>\n",
       "    <tr style=\"text-align: right;\">\n",
       "      <th></th>\n",
       "      <th>Date</th>\n",
       "      <th>Weight</th>\n",
       "      <th>Days</th>\n",
       "      <th>year</th>\n",
       "      <th>month</th>\n",
       "    </tr>\n",
       "  </thead>\n",
       "  <tbody>\n",
       "    <tr>\n",
       "      <th>1</th>\n",
       "      <td>2024-06-03</td>\n",
       "      <td>80.0</td>\n",
       "      <td>0</td>\n",
       "      <td>2024</td>\n",
       "      <td>6</td>\n",
       "    </tr>\n",
       "    <tr>\n",
       "      <th>2</th>\n",
       "      <td>2024-06-04</td>\n",
       "      <td>NaN</td>\n",
       "      <td>1</td>\n",
       "      <td>2024</td>\n",
       "      <td>6</td>\n",
       "    </tr>\n",
       "    <tr>\n",
       "      <th>3</th>\n",
       "      <td>2024-06-05</td>\n",
       "      <td>NaN</td>\n",
       "      <td>2</td>\n",
       "      <td>2024</td>\n",
       "      <td>6</td>\n",
       "    </tr>\n",
       "    <tr>\n",
       "      <th>4</th>\n",
       "      <td>2024-06-06</td>\n",
       "      <td>NaN</td>\n",
       "      <td>3</td>\n",
       "      <td>2024</td>\n",
       "      <td>6</td>\n",
       "    </tr>\n",
       "    <tr>\n",
       "      <th>5</th>\n",
       "      <td>2024-06-07</td>\n",
       "      <td>NaN</td>\n",
       "      <td>4</td>\n",
       "      <td>2024</td>\n",
       "      <td>6</td>\n",
       "    </tr>\n",
       "  </tbody>\n",
       "</table>\n",
       "</div>"
      ],
      "text/plain": [
       "        Date  Weight  Days  year  month\n",
       "1 2024-06-03    80.0     0  2024      6\n",
       "2 2024-06-04     NaN     1  2024      6\n",
       "3 2024-06-05     NaN     2  2024      6\n",
       "4 2024-06-06     NaN     3  2024      6\n",
       "5 2024-06-07     NaN     4  2024      6"
      ]
     },
     "execution_count": 96,
     "metadata": {},
     "output_type": "execute_result"
    }
   ],
   "source": [
    "df.head()"
   ]
  },
  {
   "cell_type": "code",
   "execution_count": 97,
   "id": "2aeb79fb-7ac6-441b-92d6-a7d378db7619",
   "metadata": {},
   "outputs": [
    {
     "data": {
      "text/html": [
       "<div>\n",
       "<style scoped>\n",
       "    .dataframe tbody tr th:only-of-type {\n",
       "        vertical-align: middle;\n",
       "    }\n",
       "\n",
       "    .dataframe tbody tr th {\n",
       "        vertical-align: top;\n",
       "    }\n",
       "\n",
       "    .dataframe thead th {\n",
       "        text-align: right;\n",
       "    }\n",
       "</style>\n",
       "<table border=\"1\" class=\"dataframe\">\n",
       "  <thead>\n",
       "    <tr style=\"text-align: right;\">\n",
       "      <th></th>\n",
       "      <th>Date</th>\n",
       "      <th>Weight</th>\n",
       "      <th>Days</th>\n",
       "      <th>year</th>\n",
       "      <th>month</th>\n",
       "    </tr>\n",
       "  </thead>\n",
       "  <tbody>\n",
       "    <tr>\n",
       "      <th>1</th>\n",
       "      <td>2024-06-03</td>\n",
       "      <td>80.0</td>\n",
       "      <td>1</td>\n",
       "      <td>2024</td>\n",
       "      <td>6</td>\n",
       "    </tr>\n",
       "    <tr>\n",
       "      <th>2</th>\n",
       "      <td>2024-06-04</td>\n",
       "      <td>NaN</td>\n",
       "      <td>2</td>\n",
       "      <td>2024</td>\n",
       "      <td>6</td>\n",
       "    </tr>\n",
       "    <tr>\n",
       "      <th>3</th>\n",
       "      <td>2024-06-05</td>\n",
       "      <td>NaN</td>\n",
       "      <td>3</td>\n",
       "      <td>2024</td>\n",
       "      <td>6</td>\n",
       "    </tr>\n",
       "    <tr>\n",
       "      <th>4</th>\n",
       "      <td>2024-06-06</td>\n",
       "      <td>NaN</td>\n",
       "      <td>4</td>\n",
       "      <td>2024</td>\n",
       "      <td>6</td>\n",
       "    </tr>\n",
       "    <tr>\n",
       "      <th>5</th>\n",
       "      <td>2024-06-07</td>\n",
       "      <td>NaN</td>\n",
       "      <td>5</td>\n",
       "      <td>2024</td>\n",
       "      <td>6</td>\n",
       "    </tr>\n",
       "  </tbody>\n",
       "</table>\n",
       "</div>"
      ],
      "text/plain": [
       "        Date  Weight  Days  year  month\n",
       "1 2024-06-03    80.0     1  2024      6\n",
       "2 2024-06-04     NaN     2  2024      6\n",
       "3 2024-06-05     NaN     3  2024      6\n",
       "4 2024-06-06     NaN     4  2024      6\n",
       "5 2024-06-07     NaN     5  2024      6"
      ]
     },
     "execution_count": 97,
     "metadata": {},
     "output_type": "execute_result"
    }
   ],
   "source": [
    "df[\"Days\"] = pd.Index(range(1, len(df)+1))\n",
    "df.head()"
   ]
  },
  {
   "cell_type": "code",
   "execution_count": 98,
   "id": "e129a416-8b14-4907-a07c-dc69e834ebae",
   "metadata": {},
   "outputs": [
    {
     "data": {
      "text/plain": [
       "<AxesSubplot: xlabel='Days', ylabel='Weight'>"
      ]
     },
     "execution_count": 98,
     "metadata": {},
     "output_type": "execute_result"
    },
    {
     "data": {
      "image/png": "[encoded data removed]",
      "text/plain": [
       "<Figure size 640x480 with 1 Axes>"
      ]
     },
     "metadata": {},
     "output_type": "display_data"
    }
   ],
   "source": [
    "df.plot.scatter(x=\"Days\", y=\"Weight\", c='blue')"
   ]
  },
  {
   "cell_type": "code",
   "execution_count": 99,
   "id": "baa12ab5-f3ab-4344-b2b9-2ca82b7a9bac",
   "metadata": {},
   "outputs": [
    {
     "data": {
      "text/html": [
       "<div>\n",
       "<style scoped>\n",
       "    .dataframe tbody tr th:only-of-type {\n",
       "        vertical-align: middle;\n",
       "    }\n",
       "\n",
       "    .dataframe tbody tr th {\n",
       "        vertical-align: top;\n",
       "    }\n",
       "\n",
       "    .dataframe thead th {\n",
       "        text-align: right;\n",
       "    }\n",
       "</style>\n",
       "<table border=\"1\" class=\"dataframe\">\n",
       "  <thead>\n",
       "    <tr style=\"text-align: right;\">\n",
       "      <th></th>\n",
       "      <th>Date</th>\n",
       "      <th>Weight</th>\n",
       "      <th>Days</th>\n",
       "      <th>year</th>\n",
       "      <th>month</th>\n",
       "    </tr>\n",
       "  </thead>\n",
       "  <tbody>\n",
       "    <tr>\n",
       "      <th>1</th>\n",
       "      <td>2024-06-03</td>\n",
       "      <td>80.0</td>\n",
       "      <td>1</td>\n",
       "      <td>2024</td>\n",
       "      <td>6</td>\n",
       "    </tr>\n",
       "    <tr>\n",
       "      <th>2</th>\n",
       "      <td>2024-06-04</td>\n",
       "      <td>NaN</td>\n",
       "      <td>2</td>\n",
       "      <td>2024</td>\n",
       "      <td>6</td>\n",
       "    </tr>\n",
       "    <tr>\n",
       "      <th>3</th>\n",
       "      <td>2024-06-05</td>\n",
       "      <td>NaN</td>\n",
       "      <td>3</td>\n",
       "      <td>2024</td>\n",
       "      <td>6</td>\n",
       "    </tr>\n",
       "    <tr>\n",
       "      <th>4</th>\n",
       "      <td>2024-06-06</td>\n",
       "      <td>NaN</td>\n",
       "      <td>4</td>\n",
       "      <td>2024</td>\n",
       "      <td>6</td>\n",
       "    </tr>\n",
       "    <tr>\n",
       "      <th>5</th>\n",
       "      <td>2024-06-07</td>\n",
       "      <td>NaN</td>\n",
       "      <td>5</td>\n",
       "      <td>2024</td>\n",
       "      <td>6</td>\n",
       "    </tr>\n",
       "  </tbody>\n",
       "</table>\n",
       "</div>"
      ],
      "text/plain": [
       "        Date  Weight  Days  year  month\n",
       "1 2024-06-03    80.0     1  2024      6\n",
       "2 2024-06-04     NaN     2  2024      6\n",
       "3 2024-06-05     NaN     3  2024      6\n",
       "4 2024-06-06     NaN     4  2024      6\n",
       "5 2024-06-07     NaN     5  2024      6"
      ]
     },
     "execution_count": 99,
     "metadata": {},
     "output_type": "execute_result"
    }
   ],
   "source": [
    "df.head()"
   ]
  },
  {
   "cell_type": "code",
   "execution_count": 100,
   "id": "253714a2-cd8f-4b0d-8e7e-1eb2dd1ad9b4",
   "metadata": {},
   "outputs": [
    {
     "name": "stdout",
     "output_type": "stream",
     "text": [
      "<class 'pandas.core.frame.DataFrame'>\n",
      "RangeIndex: 69 entries, 1 to 69\n",
      "Data columns (total 5 columns):\n",
      " #   Column  Non-Null Count  Dtype         \n",
      "---  ------  --------------  -----         \n",
      " 0   Date    69 non-null     datetime64[ns]\n",
      " 1   Weight  35 non-null     float64       \n",
      " 2   Days    69 non-null     int64         \n",
      " 3   year    69 non-null     int64         \n",
      " 4   month   69 non-null     int64         \n",
      "dtypes: datetime64[ns](1), float64(1), int64(3)\n",
      "memory usage: 2.8 KB\n"
     ]
    }
   ],
   "source": [
    "df.info()"
   ]
  },
  {
   "cell_type": "code",
   "execution_count": 101,
   "id": "35eda3ee-4907-45cf-a828-ba7b472b22ec",
   "metadata": {},
   "outputs": [
    {
     "data": {
      "text/plain": [
       "Date       0\n",
       "Weight    34\n",
       "Days       0\n",
       "year       0\n",
       "month      0\n",
       "dtype: int64"
      ]
     },
     "execution_count": 101,
     "metadata": {},
     "output_type": "execute_result"
    }
   ],
   "source": [
    "df.isna().sum()"
   ]
  },
  {
   "cell_type": "code",
   "execution_count": 102,
   "id": "5067f7ab-ab4d-4d94-bef8-641dd7aaecba",
   "metadata": {},
   "outputs": [
    {
     "name": "stdout",
     "output_type": "stream",
     "text": [
      "<class 'pandas.core.frame.DataFrame'>\n",
      "RangeIndex: 69 entries, 1 to 69\n",
      "Data columns (total 5 columns):\n",
      " #   Column  Non-Null Count  Dtype         \n",
      "---  ------  --------------  -----         \n",
      " 0   Date    69 non-null     datetime64[ns]\n",
      " 1   Weight  35 non-null     float64       \n",
      " 2   Days    69 non-null     int64         \n",
      " 3   year    69 non-null     int64         \n",
      " 4   month   69 non-null     int64         \n",
      "dtypes: datetime64[ns](1), float64(1), int64(3)\n",
      "memory usage: 2.8 KB\n"
     ]
    }
   ],
   "source": [
    "df.info()"
   ]
  },
  {
   "cell_type": "code",
   "execution_count": 103,
   "id": "433951d8-24ec-46e9-a494-339f0a3c9293",
   "metadata": {},
   "outputs": [
    {
     "data": {
      "text/plain": [
       "Date      datetime64[ns]\n",
       "Weight           float64\n",
       "Days               int64\n",
       "year               int64\n",
       "month              int64\n",
       "dtype: object"
      ]
     },
     "execution_count": 103,
     "metadata": {},
     "output_type": "execute_result"
    }
   ],
   "source": [
    "df.dtypes"
   ]
  },
  {
   "cell_type": "code",
   "execution_count": null,
   "id": "c5f818b1-b7a2-4a2b-918d-f406d78c02f2",
   "metadata": {},
   "outputs": [],
   "source": []
  },
  {
   "cell_type": "code",
   "execution_count": 104,
   "id": "acb7312e-bbb0-4115-9d13-078654194765",
   "metadata": {},
   "outputs": [
    {
     "data": {
      "image/png": "[encoded data removed]",
      "text/plain": [
       "<Figure size 1000x600 with 1 Axes>"
      ]
     },
     "metadata": {},
     "output_type": "display_data"
    }
   ],
   "source": [
    "plt.figure(figsize=(10,6))\n",
    "sns.lineplot(x=\"Days\",y=\"Weight\",data=df,marker=\"o\")\n",
    "plt.title(\"Weight by day of the Month\")\n",
    "plt.ylabel(\"weight (kg)\")\n",
    "plt.show()"
   ]
  },
  {
   "cell_type": "code",
   "execution_count": 105,
   "id": "2d5a8193-1076-4768-9076-86ba27dffba7",
   "metadata": {},
   "outputs": [
    {
     "data": {
      "text/html": [
       "<div>\n",
       "<style scoped>\n",
       "    .dataframe tbody tr th:only-of-type {\n",
       "        vertical-align: middle;\n",
       "    }\n",
       "\n",
       "    .dataframe tbody tr th {\n",
       "        vertical-align: top;\n",
       "    }\n",
       "\n",
       "    .dataframe thead th {\n",
       "        text-align: right;\n",
       "    }\n",
       "</style>\n",
       "<table border=\"1\" class=\"dataframe\">\n",
       "  <thead>\n",
       "    <tr style=\"text-align: right;\">\n",
       "      <th></th>\n",
       "      <th>Date</th>\n",
       "      <th>Weight</th>\n",
       "      <th>Days</th>\n",
       "      <th>year</th>\n",
       "      <th>month</th>\n",
       "    </tr>\n",
       "  </thead>\n",
       "  <tbody>\n",
       "    <tr>\n",
       "      <th>1</th>\n",
       "      <td>2024-06-03</td>\n",
       "      <td>80.0</td>\n",
       "      <td>1</td>\n",
       "      <td>2024</td>\n",
       "      <td>6</td>\n",
       "    </tr>\n",
       "    <tr>\n",
       "      <th>2</th>\n",
       "      <td>2024-06-04</td>\n",
       "      <td>NaN</td>\n",
       "      <td>2</td>\n",
       "      <td>2024</td>\n",
       "      <td>6</td>\n",
       "    </tr>\n",
       "    <tr>\n",
       "      <th>3</th>\n",
       "      <td>2024-06-05</td>\n",
       "      <td>NaN</td>\n",
       "      <td>3</td>\n",
       "      <td>2024</td>\n",
       "      <td>6</td>\n",
       "    </tr>\n",
       "    <tr>\n",
       "      <th>4</th>\n",
       "      <td>2024-06-06</td>\n",
       "      <td>NaN</td>\n",
       "      <td>4</td>\n",
       "      <td>2024</td>\n",
       "      <td>6</td>\n",
       "    </tr>\n",
       "    <tr>\n",
       "      <th>5</th>\n",
       "      <td>2024-06-07</td>\n",
       "      <td>NaN</td>\n",
       "      <td>5</td>\n",
       "      <td>2024</td>\n",
       "      <td>6</td>\n",
       "    </tr>\n",
       "  </tbody>\n",
       "</table>\n",
       "</div>"
      ],
      "text/plain": [
       "        Date  Weight  Days  year  month\n",
       "1 2024-06-03    80.0     1  2024      6\n",
       "2 2024-06-04     NaN     2  2024      6\n",
       "3 2024-06-05     NaN     3  2024      6\n",
       "4 2024-06-06     NaN     4  2024      6\n",
       "5 2024-06-07     NaN     5  2024      6"
      ]
     },
     "execution_count": 105,
     "metadata": {},
     "output_type": "execute_result"
    }
   ],
   "source": [
    "df.head()"
   ]
  },
  {
   "cell_type": "code",
   "execution_count": 106,
   "id": "78e7fe0a-5655-4e78-8fad-233c76c21bed",
   "metadata": {},
   "outputs": [],
   "source": [
    "\n",
    "ordinal_encoder = OrdinalEncoder()\n",
    "df['Date_Ordinal'] = ordinal_encoder.fit_transform(df[['Date']])\n",
    "\n",
    "imputer = KNNImputer(n_neighbors=2)\n",
    "\n",
    "df = df.copy()\n",
    "df[['Date_Ordinal', 'Weight']] = imputer.fit_transform(df[['Date_Ordinal', 'Weight']])\n",
    "\n",
    "df.drop(columns=['Date_Ordinal'], inplace=True)"
   ]
  },
  {
   "cell_type": "code",
   "execution_count": 107,
   "id": "3376cfbe-80f0-438b-a4c5-cec45f2cabce",
   "metadata": {},
   "outputs": [
    {
     "data": {
      "image/png": "[encoded data removed]",
      "text/plain": [
       "<Figure size 1000x600 with 1 Axes>"
      ]
     },
     "metadata": {},
     "output_type": "display_data"
    }
   ],
   "source": [
    "plt.figure(figsize=(10,6))\n",
    "sns.lineplot(x=\"Days\",y=\"Weight\",data=df,marker=\"o\")\n",
    "plt.title(\"Weight by day of the Month\")\n",
    "plt.ylabel(\"weight (kg)\")\n",
    "plt.show()"
   ]
  },
  {
   "cell_type": "code",
   "execution_count": 108,
   "id": "d02e3d38-a700-47d8-ac7f-9114529f1051",
   "metadata": {},
   "outputs": [
    {
     "data": {
      "text/html": [
       "<div>\n",
       "<style scoped>\n",
       "    .dataframe tbody tr th:only-of-type {\n",
       "        vertical-align: middle;\n",
       "    }\n",
       "\n",
       "    .dataframe tbody tr th {\n",
       "        vertical-align: top;\n",
       "    }\n",
       "\n",
       "    .dataframe thead th {\n",
       "        text-align: right;\n",
       "    }\n",
       "</style>\n",
       "<table border=\"1\" class=\"dataframe\">\n",
       "  <thead>\n",
       "    <tr style=\"text-align: right;\">\n",
       "      <th></th>\n",
       "      <th>Date</th>\n",
       "      <th>Weight</th>\n",
       "      <th>Days</th>\n",
       "      <th>year</th>\n",
       "      <th>month</th>\n",
       "    </tr>\n",
       "  </thead>\n",
       "  <tbody>\n",
       "    <tr>\n",
       "      <th>65</th>\n",
       "      <td>2024-08-06</td>\n",
       "      <td>71.7</td>\n",
       "      <td>65</td>\n",
       "      <td>2024</td>\n",
       "      <td>8</td>\n",
       "    </tr>\n",
       "    <tr>\n",
       "      <th>66</th>\n",
       "      <td>2024-08-07</td>\n",
       "      <td>72.2</td>\n",
       "      <td>66</td>\n",
       "      <td>2024</td>\n",
       "      <td>8</td>\n",
       "    </tr>\n",
       "    <tr>\n",
       "      <th>67</th>\n",
       "      <td>2024-08-08</td>\n",
       "      <td>72.3</td>\n",
       "      <td>67</td>\n",
       "      <td>2024</td>\n",
       "      <td>8</td>\n",
       "    </tr>\n",
       "    <tr>\n",
       "      <th>68</th>\n",
       "      <td>2024-08-09</td>\n",
       "      <td>72.6</td>\n",
       "      <td>68</td>\n",
       "      <td>2024</td>\n",
       "      <td>8</td>\n",
       "    </tr>\n",
       "    <tr>\n",
       "      <th>69</th>\n",
       "      <td>2024-08-10</td>\n",
       "      <td>72.3</td>\n",
       "      <td>69</td>\n",
       "      <td>2024</td>\n",
       "      <td>8</td>\n",
       "    </tr>\n",
       "  </tbody>\n",
       "</table>\n",
       "</div>"
      ],
      "text/plain": [
       "         Date  Weight  Days  year  month\n",
       "65 2024-08-06    71.7    65  2024      8\n",
       "66 2024-08-07    72.2    66  2024      8\n",
       "67 2024-08-08    72.3    67  2024      8\n",
       "68 2024-08-09    72.6    68  2024      8\n",
       "69 2024-08-10    72.3    69  2024      8"
      ]
     },
     "execution_count": 108,
     "metadata": {},
     "output_type": "execute_result"
    }
   ],
   "source": [
    "df.tail()"
   ]
  },
  {
   "cell_type": "code",
   "execution_count": 109,
   "id": "c9f6e9e5-d252-45bc-ad81-9d9d01a752ab",
   "metadata": {},
   "outputs": [],
   "source": [
    "X= df[[\"Weight\"]]\n",
    "y= df[[\"Days\"]]\n",
    "\n",
    "X_train, X_test , y_train,y_test = train_test_split(X,y,test_size=0.2,random_state=42)"
   ]
  },
  {
   "cell_type": "code",
   "execution_count": 114,
   "id": "1a4fa0e0-166b-4034-8397-58954a46d0ae",
   "metadata": {},
   "outputs": [
    {
     "name": "stdout",
     "output_type": "stream",
     "text": [
      "\n",
      "ElasticNet Regression\n",
      "Mean Squared Error: 50.15385460727151\n",
      "R-squared: 0.8611893259665727\n"
     ]
    }
   ],
   "source": [
    "\n",
    "y_pred_elasticnet = elasticnet.predict(X_test)\n",
    "\n",
    "mse_elasticnet = mean_squared_error(y_test, y_pred_elasticnet)\n",
    "r2_elasticnet = r2_score(y_test, y_pred_elasticnet)\n",
    "\n",
    "print(\"\\nElasticNet Regression\")\n",
    "print(f\"Mean Squared Error: {mse_elasticnet}\")\n",
    "print(f\"R-squared: {r2_elasticnet}\")\n"
   ]
  },
  {
   "cell_type": "code",
   "execution_count": 115,
   "id": "13a6a85a-f2b7-4458-bb85-d2998c9e25ca",
   "metadata": {},
   "outputs": [
    {
     "data": {
      "text/html": [
       "<style>#sk-container-id-3 {color: black;background-color: white;}#sk-container-id-3 pre{padding: 0;}#sk-container-id-3 div.sk-toggleable {background-color: white;}#sk-container-id-3 label.sk-toggleable__label {cursor: pointer;display: block;width: 100%;margin-bottom: 0;padding: 0.3em;box-sizing: border-box;text-align: center;}#sk-container-id-3 label.sk-toggleable__label-arrow:before {content: \"▸\";float: left;margin-right: 0.25em;color: #696969;}#sk-container-id-3 label.sk-toggleable__label-arrow:hover:before {color: black;}#sk-container-id-3 div.sk-estimator:hover label.sk-toggleable__label-arrow:before {color: black;}#sk-container-id-3 div.sk-toggleable__content {max-height: 0;max-width: 0;overflow: hidden;text-align: left;background-color: #f0f8ff;}#sk-container-id-3 div.sk-toggleable__content pre {margin: 0.2em;color: black;border-radius: 0.25em;background-color: #f0f8ff;}#sk-container-id-3 input.sk-toggleable__control:checked~div.sk-toggleable__content {max-height: 200px;max-width: 100%;overflow: auto;}#sk-container-id-3 input.sk-toggleable__control:checked~label.sk-toggleable__label-arrow:before {content: \"▾\";}#sk-container-id-3 div.sk-estimator input.sk-toggleable__control:checked~label.sk-toggleable__label {background-color: #d4ebff;}#sk-container-id-3 div.sk-label input.sk-toggleable__control:checked~label.sk-toggleable__label {background-color: #d4ebff;}#sk-container-id-3 input.sk-hidden--visually {border: 0;clip: rect(1px 1px 1px 1px);clip: rect(1px, 1px, 1px, 1px);height: 1px;margin: -1px;overflow: hidden;padding: 0;position: absolute;width: 1px;}#sk-container-id-3 div.sk-estimator {font-family: monospace;background-color: #f0f8ff;border: 1px dotted black;border-radius: 0.25em;box-sizing: border-box;margin-bottom: 0.5em;}#sk-container-id-3 div.sk-estimator:hover {background-color: #d4ebff;}#sk-container-id-3 div.sk-parallel-item::after {content: \"\";width: 100%;border-bottom: 1px solid gray;flex-grow: 1;}#sk-container-id-3 div.sk-label:hover label.sk-toggleable__label {background-color: #d4ebff;}#sk-container-id-3 div.sk-serial::before {content: \"\";position: absolute;border-left: 1px solid gray;box-sizing: border-box;top: 0;bottom: 0;left: 50%;z-index: 0;}#sk-container-id-3 div.sk-serial {display: flex;flex-direction: column;align-items: center;background-color: white;padding-right: 0.2em;padding-left: 0.2em;position: relative;}#sk-container-id-3 div.sk-item {position: relative;z-index: 1;}#sk-container-id-3 div.sk-parallel {display: flex;align-items: stretch;justify-content: center;background-color: white;position: relative;}#sk-container-id-3 div.sk-item::before, #sk-container-id-3 div.sk-parallel-item::before {content: \"\";position: absolute;border-left: 1px solid gray;box-sizing: border-box;top: 0;bottom: 0;left: 50%;z-index: -1;}#sk-container-id-3 div.sk-parallel-item {display: flex;flex-direction: column;z-index: 1;position: relative;background-color: white;}#sk-container-id-3 div.sk-parallel-item:first-child::after {align-self: flex-end;width: 50%;}#sk-container-id-3 div.sk-parallel-item:last-child::after {align-self: flex-start;width: 50%;}#sk-container-id-3 div.sk-parallel-item:only-child::after {width: 0;}#sk-container-id-3 div.sk-dashed-wrapped {border: 1px dashed gray;margin: 0 0.4em 0.5em 0.4em;box-sizing: border-box;padding-bottom: 0.4em;background-color: white;}#sk-container-id-3 div.sk-label label {font-family: monospace;font-weight: bold;display: inline-block;line-height: 1.2em;}#sk-container-id-3 div.sk-label-container {text-align: center;}#sk-container-id-3 div.sk-container {/* jupyter's `normalize.less` sets `[hidden] { display: none; }` but bootstrap.min.css set `[hidden] { display: none !important; }` so we also need the `!important` here to be able to override the default hidden behavior on the sphinx rendered scikit-learn.org. See: https://github.com/scikit-learn/scikit-learn/issues/21755 */display: inline-block !important;position: relative;}#sk-container-id-3 div.sk-text-repr-fallback {display: none;}</style><div id=\"sk-container-id-3\" class=\"sk-top-container\"><div class=\"sk-text-repr-fallback\"><pre>ElasticNet(alpha=0.1)</pre><b>In a Jupyter environment, please rerun this cell to show the HTML representation or trust the notebook. <br />On GitHub, the HTML representation is unable to render, please try loading this page with nbviewer.org.</b></div><div class=\"sk-container\" hidden><div class=\"sk-item\"><div class=\"sk-estimator sk-toggleable\"><input class=\"sk-toggleable__control sk-hidden--visually\" id=\"sk-estimator-id-3\" type=\"checkbox\" checked><label for=\"sk-estimator-id-3\" class=\"sk-toggleable__label sk-toggleable__label-arrow\">ElasticNet</label><div class=\"sk-toggleable__content\"><pre>ElasticNet(alpha=0.1)</pre></div></div></div></div></div>"
      ],
      "text/plain": [
       "ElasticNet(alpha=0.1)"
      ]
     },
     "execution_count": 115,
     "metadata": {},
     "output_type": "execute_result"
    }
   ],
   "source": [
    "elasticnet = ElasticNet(alpha=0.1, l1_ratio=0.5)\n",
    "elasticnet.fit(X_train, y_train)"
   ]
  },
  {
   "cell_type": "code",
   "execution_count": 112,
   "id": "801a20cf-ea37-4587-b336-9658fec0ae94",
   "metadata": {},
   "outputs": [
    {
     "name": "stdout",
     "output_type": "stream",
     "text": [
      "\n",
      "ElasticNet Regression\n",
      "Mean Squared Error: 50.15385460727151\n",
      "R-squared: 0.8611893259665727\n"
     ]
    }
   ],
   "source": [
    "y_pred_elasticnet = elasticnet.predict(X_test)\n",
    "\n",
    "# Evaluate the model\n",
    "mse_elasticnet = mean_squared_error(y_test, y_pred_elasticnet)\n",
    "r2_elasticnet = r2_score(y_test, y_pred_elasticnet)\n",
    "\n",
    "print(\"\\nElasticNet Regression\")\n",
    "print(f\"Mean Squared Error: {mse_elasticnet}\")\n",
    "print(f\"R-squared: {r2_elasticnet}\")\n"
   ]
  },
  {
   "cell_type": "code",
   "execution_count": 117,
   "id": "9305ddfc-cddb-4a1d-b2b7-34fbd1073d0b",
   "metadata": {},
   "outputs": [
    {
     "data": {
      "image/png": "[encoded data removed]",
      "text/plain": [
       "<Figure size 640x480 with 1 Axes>"
      ]
     },
     "metadata": {},
     "output_type": "display_data"
    }
   ],
   "source": [
    "\n",
    "plt.scatter(X_test, y_test, color='blue', label='Actual')\n",
    "\n",
    "plt.plot(X_test, y_pred_elasticnet, color='red', linewidth=2, label='Best Fit Line')\n",
    "\n",
    "plt.xlabel('X Test Data')\n",
    "plt.ylabel('Y Test Data')\n",
    "plt.title('Best Fit Line for Linear Regression')\n",
    "plt.legend()\n",
    "\n",
    "plt.show()\n"
   ]
  },
  {
   "cell_type": "code",
   "execution_count": 124,
   "id": "46320304-2b13-415a-bb8e-5732524d2af7",
   "metadata": {},
   "outputs": [
    {
     "name": "stdout",
     "output_type": "stream",
     "text": [
      "Predicted date for 66.9 kg is 16-Sep-2024\n"
     ]
    }
   ],
   "source": [
    "new_weight = 66.9 \n",
    "predicted_days = elasticnet.predict([[new_weight]])\n",
    "\n",
    "predicted_date = df['Date'].min() + pd.to_timedelta(int(predicted_days[0]), unit='D')\n",
    "\n",
    "print(f\"Predicted date for {new_weight} kg is {predicted_date.strftime('%d-%b-%Y')}\")\n"
   ]
  },
  {
   "cell_type": "code",
   "execution_count": null,
   "id": "129e9000-354e-47f0-af6f-96e7a2f20cff",
   "metadata": {},
   "outputs": [],
   "source": []
  },
  {
   "cell_type": "code",
   "execution_count": null,
   "id": "30e269fd-b013-45b0-adb3-a71c94a4ae0c",
   "metadata": {},
   "outputs": [],
   "source": []
  },
  {
   "cell_type": "code",
   "execution_count": null,
   "id": "976f0e91-6511-4c21-a053-69aabf7163f7",
   "metadata": {},
   "outputs": [],
   "source": []
  },
  {
   "cell_type": "code",
   "execution_count": null,
   "id": "836f0b43-5870-4ffe-b31a-7488d67cbd8b",
   "metadata": {},
   "outputs": [],
   "source": []
  }
 ],
 "metadata": {
  "kernelspec": {
   "display_name": "Python 3 (ipykernel)",
   "language": "python",
   "name": "python3"
  },
  "language_info": {
   "codemirror_mode": {
    "name": "ipython",
    "version": 3
   },
   "file_extension": ".py",
   "mimetype": "text/x-python",
   "name": "python",
   "nbconvert_exporter": "python",
   "pygments_lexer": "ipython3",
   "version": "3.10.8"
  }
 },
 "nbformat": 4,
 "nbformat_minor": 5
}
